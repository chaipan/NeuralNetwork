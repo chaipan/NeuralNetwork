{
 "cells": [
  {
   "cell_type": "code",
   "execution_count": 2,
   "metadata": {
    "collapsed": true
   },
   "outputs": [],
   "source": [
    "import tensorflow as tf"
   ]
  },
  {
   "cell_type": "markdown",
   "metadata": {},
   "source": [
    "常量定义：\n",
    "**def constant(value, dtype=None, shape=None, name=\"Const\", verify_shape=False)**"
   ]
  },
  {
   "cell_type": "code",
   "execution_count": 10,
   "metadata": {
    "collapsed": false
   },
   "outputs": [
    {
     "name": "stdout",
     "output_type": "stream",
     "text": [
      "[[3 5]\n [4 6]]\n"
     ]
    }
   ],
   "source": [
    "a = tf.constant([2,3],name='a')\n",
    "b = tf.constant([[1,2],[2,3]],name='b')\n",
    "x = tf.add(a, b, name='x')\n",
    "sess = tf.Session()\n",
    "print(sess.run(x))"
   ]
  },
  {
   "cell_type": "markdown",
   "metadata": {},
   "source": [
    "使用指定值填充：<br>\n",
    "**tf.zeros(shape, dtype=tf.float32, name=None)**<br>\n",
    "**tf.zeros_like(input_tensor, dtype=None, name=None, optimize=True)**<br>\n",
    "**tf.ones(shape, dtype=tf.float32, name=None)**<br>\n",
    "**tf.ones_like(input_tensor, dtype=None, name=None, optimize=True)**<br>"
   ]
  },
  {
   "cell_type": "code",
   "execution_count": 12,
   "metadata": {
    "collapsed": false
   },
   "outputs": [
    {
     "name": "stdout",
     "output_type": "stream",
     "text": [
      "[[ 0.  0.  0.]\n [ 0.  0.  0.]]\n[[ 0.  0.  0.]\n [ 0.  0.  0.]]\n"
     ]
    }
   ],
   "source": [
    "zeros = tf.zeros([2,3], name='zeros',dtype=tf.float32)\n",
    "sess = tf.Session()\n",
    "print(sess.run(zeros))\n",
    "zeros_like = tf.zeros_like(zeros)    \n",
    "print(sess.run(zeros_like))"
   ]
  },
  {
   "cell_type": "markdown",
   "metadata": {},
   "source": [
    "使用指定数据填充：<br>\n",
    "**tf.fill(dims, value, name=None) **<br>\n",
    "创建一个dim形状的张量，使用指定值填充。dim是形状张量，value是标量"
   ]
  },
  {
   "cell_type": "code",
   "execution_count": 13,
   "metadata": {
    "collapsed": false
   },
   "outputs": [
    {
     "name": "stdout",
     "output_type": "stream",
     "text": [
      "[[9 9 9]\n [9 9 9]]\n"
     ]
    }
   ],
   "source": [
    "fill_data = tf.fill([2,3],value=9)\n",
    "with tf.Session() as sess:\n",
    "    print(sess.run(fill_data))\n"
   ]
  },
  {
   "cell_type": "markdown",
   "metadata": {},
   "source": [
    "占位符：tf在计算图时可以不需要知道计算时的必须值，而是使用占位符。当需要执行计算时可以稍后提供所需数据。<br>\n",
    "创建一个占位符：<br>\n",
    "**tf.placeholder(dtype, shape=None, name=None)**\n"
   ]
  },
  {
   "cell_type": "markdown",
   "metadata": {},
   "source": [
    "然后使用字典来填充占位符："
   ]
  },
  {
   "cell_type": "code",
   "execution_count": null,
   "metadata": {
    "collapsed": false
   },
   "outputs": [],
   "source": [
    "placeholder_a = tf.placeholder(tf.float32, shape=[3], name='placeholder_a')\n",
    "constant_a = tf.constant(value=[5,5,5],shape=[3],dtype=tf.float32,name=\"constant_a\")\n",
    "variable_c = a+b\n",
    "with tf.Session() as sess:\n",
    "    print(sess.run(variable_c, {a:[1,2,3]}))"
   ]
  },
  {
   "cell_type": "code",
   "execution_count": null,
   "metadata": {},
   "outputs": [],
   "source": []
  }
 ],
 "metadata": {
  "kernelspec": {
   "display_name": "Python 2",
   "language": "python",
   "name": "python2"
  },
  "language_info": {
   "codemirror_mode": {
    "name": "ipython",
    "version": 2
   },
   "file_extension": ".py",
   "mimetype": "text/x-python",
   "name": "python",
   "nbconvert_exporter": "python",
   "pygments_lexer": "ipython2",
   "version": "2.7.6"
  }
 },
 "nbformat": 4,
 "nbformat_minor": 0
}
